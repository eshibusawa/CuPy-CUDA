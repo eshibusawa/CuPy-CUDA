{
 "cells": [
  {
   "cell_type": "markdown",
   "id": "d89564e5",
   "metadata": {},
   "source": [
    "# Basic Texture Sampling\n",
    "This notebook focuses on texture memory, a powerful tool in GPU programming.\n",
    "Texture memory has its own unique caching mechanism, specifically optimized for accessing 2D data like images and grid data.\n",
    "When combined with 2D thread blocks, which are frequently used in image processing, texture memory enables efficient data access and sampling.\n",
    "This allows for intuitive data access using texture coordinates, along with built-in interpolation features and flexible addressing modes.\n",
    "These characteristics make texture memory particularly effective for stencil pattern computations, where each pixel's value depends on its surrounding neighbors."
   ]
  },
  {
   "cell_type": "code",
   "execution_count": null,
   "id": "924be294",
   "metadata": {},
   "outputs": [],
   "source": [
    "import os\n",
    "import math\n",
    "import io\n",
    "\n",
    "import numpy as np\n",
    "import cupy as cp\n",
    "\n",
    "from PIL import Image as PILImage\n",
    "from IPython.display import Image, display\n",
    "\n",
    "img_src = np.array([[192, 127], [63, 255]], dtype=np.uint8)"
   ]
  },
  {
   "cell_type": "markdown",
   "id": "a870fda1",
   "metadata": {},
   "source": [
    "First, we define a 2x2 NumPy array called img_src.\n",
    "This small array serves as our source image for texture sampling.\n",
    "The values in each element `(192, 127, 63, 255)` represent pixel intensities.\n",
    "This tiny, checkerboard-like pattern will be sampled and reconstructed into a larger image by a CUDA kernel, which we'll discuss later.\n",
    "This pattern is key to visually understanding the various behaviors of texture sampling.\n",
    "\n",
    "Next, we read the CUDA kernel source code file `02_basic_texture_sampling_1.cu` into a string.\n",
    "We then display the source code content and compile it using CuPy's RawModule.\n",
    "This `RawModule` converts the loaded CUDA code into an executable format on the GPU, preparing it for subsequent calls to the kernel function."
   ]
  },
  {
   "cell_type": "code",
   "execution_count": null,
   "id": "9125e469",
   "metadata": {},
   "outputs": [],
   "source": [
    "dn = os.getcwd()\n",
    "fpfn = os.path.join(dn, '02_basic_texture_sampling_1.cu')\n",
    "with open(fpfn, 'r') as f:\n",
    "  cuda_source = f.read()\n",
    "\n",
    "print(cuda_source)\n",
    "module = cp.RawModule(code=cuda_source)"
   ]
  },
  {
   "cell_type": "markdown",
   "id": "6d124410",
   "metadata": {},
   "source": [
    "This scale kernel calculates the coordinates for each output pixel assigned to a thread and then samples the texture from those coordinates.\n",
    "This kernel is designed to be invoked using 2D thread blocks, which are common in image processing, allowing each thread to process a corresponding 2D position in the output image.\n",
    "It transforms the output image pixel coordinates into normalized `[0, 1)` texture coordinates, and then scales them further into the `[-1.5, 1.5)` range.\n",
    "This scaling ensures that regions far outside the original 2x2 texture's `[0, 1)` range are also sampled, clearly visualizing the effects of various addressing modes (edge handling) that we'll demonstrate later.\n",
    "Finally, it uses the scaled x, y coordinates to fetch a pixel value from the texture via `tex2D<unsigned char>(tex, x, y)` and writes it to the output array.\n",
    "The addressing and filtering modes configured in the texture object are automatically applied during this sampling process."
   ]
  },
  {
   "cell_type": "markdown",
   "id": "680ff6dc",
   "metadata": {},
   "source": [
    "The texture memory space on the GPU resides in device memory and is cached by the texture cache.\n",
    "Therefore, a data read from texture memory (texture fetch) only incurs a device memory read on a cache miss; otherwise, it's a fast read from the texture cache.\n",
    "The texture cache is specifically optimized for 2D spatial locality, maximizing access performance for 2D data.\n",
    "\n",
    "Texture memory offers an advantage where it can achieve high bandwidth even for access patterns that global or constant memory might struggle with, provided there's locality in the texture fetches. \n",
    "Additionally, address calculations are performed automatically by dedicated units outside the kernel, reducing the programmer's burden.\n",
    "Due to these characteristics, texture memory can be a more advantageous and higher-performance alternative to reading device memory from global or constant memory, especially for data with specific access patterns like those found in image processing."
   ]
  },
  {
   "cell_type": "code",
   "execution_count": null,
   "id": "546d0bcd",
   "metadata": {},
   "outputs": [],
   "source": [
    "def create_to(img_src, boader):\n",
    "  channel_format_descriptor = cp.cuda.texture.ChannelFormatDescriptor(8, 0, 0, 0, cp.cuda.runtime.cudaChannelFormatKindUnsigned)\n",
    "\n",
    "  img_src_gpu = cp.cuda.texture.CUDAarray(channel_format_descriptor, img_src.shape[1], img_src.shape[0])\n",
    "  img_src_gpu.copy_from(img_src)\n",
    "\n",
    "  resouce_descriptor = cp.cuda.texture.ResourceDescriptor(\n",
    "    cp.cuda.runtime.cudaResourceTypeArray,\n",
    "    cuArr = img_src_gpu)\n",
    "\n",
    "  texture_descriptor = cp.cuda.texture.TextureDescriptor(\n",
    "    addressModes = (boader, boader),\n",
    "    filterMode = cp.cuda.runtime.cudaFilterModePoint,\n",
    "    readMode = cp.cuda.runtime.cudaReadModeElementType,\n",
    "    normalizedCoords = 1)\n",
    "\n",
    "  texture_object = cp.cuda.texture.TextureObject(resouce_descriptor, texture_descriptor)\n",
    "  return texture_object"
   ]
  },
  {
   "cell_type": "markdown",
   "id": "96867417",
   "metadata": {},
   "source": [
    "The `create_to` function takes CPU image data (`img_src`) and a desired addressing mode (boader) as input, then generates and returns a texture object on the GPU.\n",
    "A texture object is a GPU resource that CUDA kernels use for efficient image data sampling.\n",
    "\n",
    "First, we use `ChannelFormatDescriptor` to define that each pixel in the texture is an 8-bit unsigned integer.\n",
    "Next, we create a `cp.cuda.texture.CUDAarray` based on this format and the original image's dimensions, then copy the `img_src` data from the CPU to this `CUDAarray` on the GPU.\n",
    "The `CUDAarray` is a specialized GPU memory region for texture sampling and serves as the source data for the texture object.\n",
    "\n",
    "Following this, we specify that the `CUDAarray` created earlier will be used as the texture's resource via `ResourceDescriptor`.\n",
    "Then, we configure the `TextureDescriptor`, which is the most crucial part for defining the texture's behavior.\n",
    "Here, we apply the specified addressing mode (`boader`) to both U and V directions (`addressModes`), set the `filterMode` to `cudaFilterModePoint` (nearest-neighbor interpolation), and define the `readMode` to read the raw element type. `normalizedCoords` is set to 1, indicating that the kernel will use normalized coordinates ranging from `0.0` to `1.0`.\n",
    "For more details on these settings, please refer to [the Texture Fetching section of the NVIDIA CUDA C++ Programming Guide](https://docs.nvidia.com/cuda/cuda-c-programming-guide/#texture-fetching).\n",
    "\n",
    "Finally, we construct a `cp.cuda.texture.TextureObject` using these descriptors and return it from the function. This texture object is what the CUDA kernel will use to sample image data through the `tex2D` function."
   ]
  },
  {
   "cell_type": "code",
   "execution_count": null,
   "id": "699b9840",
   "metadata": {},
   "outputs": [],
   "source": [
    "w, h = 256, 256\n",
    "img_dst_gpu = cp.empty((h, w), dtype=cp.uint8)\n",
    "assert img_dst_gpu.flags.c_contiguous\n",
    "\n",
    "border_str = 'wrap', 'clamp', 'mirror', 'border'\n",
    "border_kind = cp.cuda.runtime.cudaAddressModeWrap,\\\n",
    "  cp.cuda.runtime.cudaAddressModeClamp,\\\n",
    "  cp.cuda.runtime.cudaAddressModeMirror,\\\n",
    "  cp.cuda.runtime.cudaAddressModeBorder"
   ]
  },
  {
   "cell_type": "markdown",
   "id": "0180a6c4",
   "metadata": {},
   "source": [
    "Here, we prepare for image generation and texture sampling.\n",
    "First, we set the final output image size to `256x256` pixels for `w` and `h`, and initialize `img_dst_gpu as` a GPU array using CuPy to store the results.\n",
    "The line assert `img_dst_gpu.flags.c_contiguous` is particularly important when handling 2D arrays.\n",
    "It ensures that `img_dst_gpu has` a row-major contiguous memory layout on GPU memory, similar to C-style arrays.\n",
    "This contiguity is often required for CUDA kernels to access memory efficiently and safely.\n",
    "\n",
    "Next, we define the types of texture addressing modes (edge handling). `border_str` contains descriptive strings for each mode (e.g., `wrap`, `clamp`, `mirror`, `border`).\n",
    "These settings determine how data is fetched when texture coordinates fall outside the original texture's range.\n",
    "`border_kind` contains the corresponding CUDA runtime constants provided by CuPy for these strings.\n",
    "These settings will be used in the subsequent loop to create texture objects for each mode and execute the kernel."
   ]
  },
  {
   "cell_type": "code",
   "execution_count": null,
   "id": "4f1d5030",
   "metadata": {},
   "outputs": [],
   "source": [
    "results_imgs = {}\n",
    "for s, k in zip(border_str, border_kind):\n",
    "  texture_object = create_to(img_src, k)\n",
    "  gpu_func = module.get_function('scale')\n",
    "  sz_block = 32, 32\n",
    "  sz_grid = math.ceil(img_dst_gpu.shape[1] / sz_block[0]), math.ceil(img_dst_gpu.shape[0] / sz_block[1])\n",
    "  gpu_func(\n",
    "      block=sz_block,\n",
    "      grid=sz_grid,\n",
    "      args=(\n",
    "          img_dst_gpu, texture_object, w, h\n",
    "      )\n",
    "  )\n",
    "  results_imgs[s] = img_dst_gpu.get()\n"
   ]
  },
  {
   "cell_type": "markdown",
   "id": "67f75198",
   "metadata": {},
   "source": [
    "This iterative process generates images on the GPU corresponding to each of the defined addressing modes (`wrap`, `clamp`, `mirror`, `border`).\n",
    "\n",
    "We begin by initializing an empty dictionary, `results_imgs`, to store the results.\n",
    "Then, we iterate through each element of `border_str` and `border_kind`, performing the appropriate processing for each mode.\n",
    "In each iteration of the loop, we use the current mode to generate a texture object via the `create_to` function.\n",
    "Next, we retrieve the compiled CUDA kernel scale function (`gpu_func`) and calculate the necessary thread block and grid sizes for the kernel's execution.\n",
    "This setup ensures all output pixels are processed efficiently.\n",
    "\n",
    "After setting up, we call `gpu_func` to execute the CUDA kernel, passing the calculated block and grid sizes, the output GPU array, the generated texture object, and the output image's width and height as arguments.\n",
    "Once the kernel execution completes, we download the resulting image data (`img_dst_gpu`) from GPU memory to CPU memory and store it in the `results_imgs` dictionary, using the corresponding addressing mode string as the key.\n",
    "Repeating this process for all addressing modes prepares all the image data needed to compare how different edge handling affects the final image."
   ]
  },
  {
   "cell_type": "code",
   "execution_count": null,
   "id": "56d475ae",
   "metadata": {},
   "outputs": [],
   "source": [
    "for s in border_str:\n",
    "    pil_img = PILImage.fromarray(results_imgs[s])\n",
    "    img_byte_arr = io.BytesIO()\n",
    "    pil_img.save(img_byte_arr, format='PNG')\n",
    "    img_byte_arr = img_byte_arr.getvalue()\n",
    "    print('border type: {}\\n'.format(s))\n",
    "    display(Image(data=img_byte_arr))"
   ]
  }
 ],
 "metadata": {
  "kernelspec": {
   "display_name": "cupy-cuda-20250531",
   "language": "python",
   "name": "python3"
  },
  "language_info": {
   "codemirror_mode": {
    "name": "ipython",
    "version": 3
   },
   "file_extension": ".py",
   "mimetype": "text/x-python",
   "name": "python",
   "nbconvert_exporter": "python",
   "pygments_lexer": "ipython3",
   "version": "3.10.17"
  }
 },
 "nbformat": 4,
 "nbformat_minor": 5
}
